{
 "cells": [
  {
   "cell_type": "code",
   "execution_count": 1,
   "id": "efeac058-e721-4b72-8727-46b6b1e0b533",
   "metadata": {},
   "outputs": [],
   "source": [
    "import pandas as pd"
   ]
  },
  {
   "cell_type": "code",
   "execution_count": 2,
   "id": "1ac1aec2-1855-47d4-ae67-72ef7eab237f",
   "metadata": {},
   "outputs": [
    {
     "name": "stdout",
     "output_type": "stream",
     "text": [
      "train size 31255\n",
      "val size 3473\n",
      "test size 8682\n"
     ]
    }
   ],
   "source": [
    "train_df = pd.read_csv(\"../data/train.csv\")\n",
    "val_df = pd.read_csv(\"../data/val.csv\")\n",
    "test_df = pd.read_csv(\"../data/test.csv\")\n",
    "\n",
    "print(\"train size\", len(train_df))\n",
    "print(\"val size\", len(val_df))\n",
    "print(\"test size\", len(test_df))"
   ]
  },
  {
   "cell_type": "code",
   "execution_count": 3,
   "id": "6993dc93-a270-4218-a741-b85d5dfa2739",
   "metadata": {},
   "outputs": [
    {
     "data": {
      "text/html": [
       "<div>\n",
       "<style scoped>\n",
       "    .dataframe tbody tr th:only-of-type {\n",
       "        vertical-align: middle;\n",
       "    }\n",
       "\n",
       "    .dataframe tbody tr th {\n",
       "        vertical-align: top;\n",
       "    }\n",
       "\n",
       "    .dataframe thead th {\n",
       "        text-align: right;\n",
       "    }\n",
       "</style>\n",
       "<table border=\"1\" class=\"dataframe\">\n",
       "  <thead>\n",
       "    <tr style=\"text-align: right;\">\n",
       "      <th></th>\n",
       "      <th>text</th>\n",
       "      <th>label</th>\n",
       "    </tr>\n",
       "  </thead>\n",
       "  <tbody>\n",
       "    <tr>\n",
       "      <th>17844</th>\n",
       "      <td>She said that? Wtf?? That's fucked up. I shoul...</td>\n",
       "      <td>1</td>\n",
       "    </tr>\n",
       "    <tr>\n",
       "      <th>30841</th>\n",
       "      <td>to 6:30. Does that look fake to you?</td>\n",
       "      <td>0</td>\n",
       "    </tr>\n",
       "    <tr>\n",
       "      <th>16451</th>\n",
       "      <td>Gamers know all too well how it feels to be op...</td>\n",
       "      <td>0</td>\n",
       "    </tr>\n",
       "    <tr>\n",
       "      <th>27141</th>\n",
       "      <td>that tease tonight lowered my hopes</td>\n",
       "      <td>1</td>\n",
       "    </tr>\n",
       "    <tr>\n",
       "      <th>22674</th>\n",
       "      <td>And Tyler Rodriguez solid one-word sentences</td>\n",
       "      <td>0</td>\n",
       "    </tr>\n",
       "    <tr>\n",
       "      <th>5426</th>\n",
       "      <td>He made it !!!</td>\n",
       "      <td>0</td>\n",
       "    </tr>\n",
       "    <tr>\n",
       "      <th>17949</th>\n",
       "      <td>Speaking of /u/'s \"If your nips aren't leaky.....</td>\n",
       "      <td>0</td>\n",
       "    </tr>\n",
       "    <tr>\n",
       "      <th>25453</th>\n",
       "      <td>Thank you and I try to keep our contact at a m...</td>\n",
       "      <td>0</td>\n",
       "    </tr>\n",
       "    <tr>\n",
       "      <th>26164</th>\n",
       "      <td>Me cheering for the Wild this year</td>\n",
       "      <td>0</td>\n",
       "    </tr>\n",
       "    <tr>\n",
       "      <th>13283</th>\n",
       "      <td>Still pissed we didn’t hire Kyle Shaw. He woul...</td>\n",
       "      <td>0</td>\n",
       "    </tr>\n",
       "  </tbody>\n",
       "</table>\n",
       "</div>"
      ],
      "text/plain": [
       "                                                    text  label\n",
       "17844  She said that? Wtf?? That's fucked up. I shoul...      1\n",
       "30841               to 6:30. Does that look fake to you?      0\n",
       "16451  Gamers know all too well how it feels to be op...      0\n",
       "27141                that tease tonight lowered my hopes      1\n",
       "22674       And Tyler Rodriguez solid one-word sentences      0\n",
       "5426                                      He made it !!!      0\n",
       "17949  Speaking of /u/'s \"If your nips aren't leaky.....      0\n",
       "25453  Thank you and I try to keep our contact at a m...      0\n",
       "26164                 Me cheering for the Wild this year      0\n",
       "13283  Still pissed we didn’t hire Kyle Shaw. He woul...      0"
      ]
     },
     "execution_count": 3,
     "metadata": {},
     "output_type": "execute_result"
    }
   ],
   "source": [
    "train_df.sample(10)"
   ]
  },
  {
   "cell_type": "code",
   "execution_count": 18,
   "id": "6c1711ff-0aee-42d9-8f38-0dd9b3ba263d",
   "metadata": {},
   "outputs": [
    {
     "data": {
      "text/plain": [
       "<AxesSubplot:>"
      ]
     },
     "execution_count": 18,
     "metadata": {},
     "output_type": "execute_result"
    },
    {
     "data": {
      "image/png": "[encoded data removed]",
      "text/plain": [
       "<Figure size 432x288 with 1 Axes>"
      ]
     },
     "metadata": {
      "needs_background": "light"
     },
     "output_type": "display_data"
    }
   ],
   "source": [
    "length_dist = train_df[\"text\"].apply(len)\n",
    "length_dist.hist(log=True, bins=20)"
   ]
  },
  {
   "cell_type": "code",
   "execution_count": 5,
   "id": "f992daa9-c9e2-415f-8755-6c19793287ee",
   "metadata": {},
   "outputs": [
    {
     "data": {
      "text/html": [
       "<div>\n",
       "<style scoped>\n",
       "    .dataframe tbody tr th:only-of-type {\n",
       "        vertical-align: middle;\n",
       "    }\n",
       "\n",
       "    .dataframe tbody tr th {\n",
       "        vertical-align: top;\n",
       "    }\n",
       "\n",
       "    .dataframe thead th {\n",
       "        text-align: right;\n",
       "    }\n",
       "</style>\n",
       "<table border=\"1\" class=\"dataframe\">\n",
       "  <thead>\n",
       "    <tr style=\"text-align: right;\">\n",
       "      <th></th>\n",
       "      <th>text</th>\n",
       "    </tr>\n",
       "    <tr>\n",
       "      <th>label</th>\n",
       "      <th></th>\n",
       "    </tr>\n",
       "  </thead>\n",
       "  <tbody>\n",
       "    <tr>\n",
       "      <th>0</th>\n",
       "      <td>24718</td>\n",
       "    </tr>\n",
       "    <tr>\n",
       "      <th>1</th>\n",
       "      <td>6537</td>\n",
       "    </tr>\n",
       "  </tbody>\n",
       "</table>\n",
       "</div>"
      ],
      "text/plain": [
       "        text\n",
       "label       \n",
       "0      24718\n",
       "1       6537"
      ]
     },
     "execution_count": 5,
     "metadata": {},
     "output_type": "execute_result"
    }
   ],
   "source": [
    "train_df.groupby(\"label\").count()"
   ]
  },
  {
   "cell_type": "code",
   "execution_count": 6,
   "id": "1eb694b2-993e-4c3d-8ad6-36c651d33982",
   "metadata": {},
   "outputs": [
    {
     "data": {
      "text/html": [
       "<div>\n",
       "<style scoped>\n",
       "    .dataframe tbody tr th:only-of-type {\n",
       "        vertical-align: middle;\n",
       "    }\n",
       "\n",
       "    .dataframe tbody tr th {\n",
       "        vertical-align: top;\n",
       "    }\n",
       "\n",
       "    .dataframe thead th {\n",
       "        text-align: right;\n",
       "    }\n",
       "</style>\n",
       "<table border=\"1\" class=\"dataframe\">\n",
       "  <thead>\n",
       "    <tr style=\"text-align: right;\">\n",
       "      <th></th>\n",
       "      <th>text</th>\n",
       "      <th>label</th>\n",
       "    </tr>\n",
       "  </thead>\n",
       "  <tbody>\n",
       "    <tr>\n",
       "      <th>0</th>\n",
       "      <td>takes no time to copy/paste a press release</td>\n",
       "      <td>0</td>\n",
       "    </tr>\n",
       "    <tr>\n",
       "      <th>2</th>\n",
       "      <td>Jazz fan here. I completely feel. Lindsay Mann...</td>\n",
       "      <td>0</td>\n",
       "    </tr>\n",
       "    <tr>\n",
       "      <th>3</th>\n",
       "      <td>ah i was also confused but i think they mean f...</td>\n",
       "      <td>0</td>\n",
       "    </tr>\n",
       "    <tr>\n",
       "      <th>4</th>\n",
       "      <td>Thank you so much. ♥️ that means a lot.</td>\n",
       "      <td>0</td>\n",
       "    </tr>\n",
       "    <tr>\n",
       "      <th>5</th>\n",
       "      <td>And I’ll be there!!!</td>\n",
       "      <td>0</td>\n",
       "    </tr>\n",
       "    <tr>\n",
       "      <th>...</th>\n",
       "      <td>...</td>\n",
       "      <td>...</td>\n",
       "    </tr>\n",
       "    <tr>\n",
       "      <th>31250</th>\n",
       "      <td>thank you so much! :)</td>\n",
       "      <td>0</td>\n",
       "    </tr>\n",
       "    <tr>\n",
       "      <th>31251</th>\n",
       "      <td>That works too. To each their own.</td>\n",
       "      <td>0</td>\n",
       "    </tr>\n",
       "    <tr>\n",
       "      <th>31252</th>\n",
       "      <td>Friendly fire dude, I wanted the other criminal</td>\n",
       "      <td>0</td>\n",
       "    </tr>\n",
       "    <tr>\n",
       "      <th>31253</th>\n",
       "      <td>Yes, exactly. Fix a date and if he still procr...</td>\n",
       "      <td>0</td>\n",
       "    </tr>\n",
       "    <tr>\n",
       "      <th>31254</th>\n",
       "      <td>Ferrets are such good ESA's though! Good for y...</td>\n",
       "      <td>0</td>\n",
       "    </tr>\n",
       "  </tbody>\n",
       "</table>\n",
       "<p>24718 rows × 2 columns</p>\n",
       "</div>"
      ],
      "text/plain": [
       "                                                    text  label\n",
       "0            takes no time to copy/paste a press release      0\n",
       "2      Jazz fan here. I completely feel. Lindsay Mann...      0\n",
       "3      ah i was also confused but i think they mean f...      0\n",
       "4                Thank you so much. ♥️ that means a lot.      0\n",
       "5                                   And I’ll be there!!!      0\n",
       "...                                                  ...    ...\n",
       "31250                              thank you so much! :)      0\n",
       "31251                 That works too. To each their own.      0\n",
       "31252   Friendly fire dude, I wanted the other criminal       0\n",
       "31253  Yes, exactly. Fix a date and if he still procr...      0\n",
       "31254  Ferrets are such good ESA's though! Good for y...      0\n",
       "\n",
       "[24718 rows x 2 columns]"
      ]
     },
     "execution_count": 6,
     "metadata": {},
     "output_type": "execute_result"
    }
   ],
   "source": [
    "train_neg = train_df[train_df[\"label\"] == 0]\n",
    "train_pos = train_df[train_df[\"label\"] == 1]\n",
    "\n",
    "train_neg"
   ]
  },
  {
   "cell_type": "code",
   "execution_count": 7,
   "id": "df1e658b-d164-4242-b290-cf743a9d7eff",
   "metadata": {},
   "outputs": [
    {
     "name": "stderr",
     "output_type": "stream",
     "text": [
      "[nltk_data] Downloading package stopwords to\n",
      "[nltk_data]     C:\\Users\\Thien\\AppData\\Roaming\\nltk_data...\n",
      "[nltk_data]   Package stopwords is already up-to-date!\n",
      "[nltk_data] Downloading package punkt to\n",
      "[nltk_data]     C:\\Users\\Thien\\AppData\\Roaming\\nltk_data...\n",
      "[nltk_data]   Package punkt is already up-to-date!\n"
     ]
    },
    {
     "data": {
      "text/plain": [
       "['i', 'me', 'my', 'myself', 'we', 'our', 'ours', 'ourselves', 'you', \"you're\"]"
      ]
     },
     "execution_count": 7,
     "metadata": {},
     "output_type": "execute_result"
    }
   ],
   "source": [
    "import nltk\n",
    "from nltk.corpus import stopwords\n",
    "\n",
    "nltk.download('stopwords')\n",
    "nltk.download('punkt')\n",
    "\n",
    "en_stopwords = stopwords.words('english')\n",
    "en_stopwords[:10]"
   ]
  },
  {
   "cell_type": "code",
   "execution_count": 8,
   "id": "39a3e497-82f1-4fdb-b5e4-ceba58d83a58",
   "metadata": {},
   "outputs": [],
   "source": [
    "en_stopwords = set(en_stopwords)"
   ]
  },
  {
   "cell_type": "code",
   "execution_count": 9,
   "id": "b73f99df-fbc7-480f-bdc4-881462430d12",
   "metadata": {},
   "outputs": [],
   "source": [
    "def count_unigram(texts):\n",
    "    vocab = {}\n",
    "\n",
    "    for x in texts:\n",
    "        words = x.lower().split()\n",
    "        for w in words:\n",
    "            if w not in en_stopwords:\n",
    "                vocab[w] = vocab.get(w,0) + 1\n",
    "\n",
    "    vocab = pd.DataFrame.from_dict(vocab, orient=\"index\", columns=[\"count\"])\n",
    "    vocab.sort_values(\"count\", ascending=False, inplace=True)\n",
    "    \n",
    "    return vocab\n",
    "\n",
    "pos_unigram = count_unigram(train_pos[\"text\"])\n",
    "neg_unigram = count_unigram(train_neg[\"text\"])"
   ]
  },
  {
   "cell_type": "code",
   "execution_count": 10,
   "id": "77bf1596-ebe6-4840-bfa5-08846e550d8c",
   "metadata": {},
   "outputs": [
    {
     "data": {
      "text/html": [
       "<div>\n",
       "<style scoped>\n",
       "    .dataframe tbody tr th:only-of-type {\n",
       "        vertical-align: middle;\n",
       "    }\n",
       "\n",
       "    .dataframe tbody tr th {\n",
       "        vertical-align: top;\n",
       "    }\n",
       "\n",
       "    .dataframe thead th {\n",
       "        text-align: right;\n",
       "    }\n",
       "</style>\n",
       "<table border=\"1\" class=\"dataframe\">\n",
       "  <thead>\n",
       "    <tr style=\"text-align: right;\">\n",
       "      <th></th>\n",
       "      <th>like</th>\n",
       "      <th>i'm</th>\n",
       "      <th>people</th>\n",
       "      <th>get</th>\n",
       "      <th>sorry</th>\n",
       "      <th>even</th>\n",
       "      <th>really</th>\n",
       "      <th>one</th>\n",
       "      <th>think</th>\n",
       "      <th>would</th>\n",
       "      <th>...</th>\n",
       "      <th>times!</th>\n",
       "      <th>gift</th>\n",
       "      <th>idiots....sheep</th>\n",
       "      <th>thinkers</th>\n",
       "      <th>changes</th>\n",
       "      <th>chemist.</th>\n",
       "      <th>remind</th>\n",
       "      <th>goddamit.</th>\n",
       "      <th>redpiller</th>\n",
       "      <th>dummy</th>\n",
       "    </tr>\n",
       "  </thead>\n",
       "  <tbody>\n",
       "    <tr>\n",
       "      <th>count</th>\n",
       "      <td>509</td>\n",
       "      <td>348</td>\n",
       "      <td>321</td>\n",
       "      <td>285</td>\n",
       "      <td>254</td>\n",
       "      <td>233</td>\n",
       "      <td>231</td>\n",
       "      <td>228</td>\n",
       "      <td>213</td>\n",
       "      <td>212</td>\n",
       "      <td>...</td>\n",
       "      <td>1</td>\n",
       "      <td>1</td>\n",
       "      <td>1</td>\n",
       "      <td>1</td>\n",
       "      <td>1</td>\n",
       "      <td>1</td>\n",
       "      <td>1</td>\n",
       "      <td>1</td>\n",
       "      <td>1</td>\n",
       "      <td>1</td>\n",
       "    </tr>\n",
       "  </tbody>\n",
       "</table>\n",
       "<p>1 rows × 14748 columns</p>\n",
       "</div>"
      ],
      "text/plain": [
       "       like  i'm  people  get  sorry  even  really  one  think  would  ...  \\\n",
       "count   509  348     321  285    254   233     231  228    213    212  ...   \n",
       "\n",
       "       times!  gift  idiots....sheep  thinkers  changes  chemist.  remind  \\\n",
       "count       1     1                1         1        1         1       1   \n",
       "\n",
       "       goddamit.  redpiller  dummy  \n",
       "count          1          1      1  \n",
       "\n",
       "[1 rows x 14748 columns]"
      ]
     },
     "execution_count": 10,
     "metadata": {},
     "output_type": "execute_result"
    }
   ],
   "source": [
    "pos_unigram.T"
   ]
  },
  {
   "cell_type": "code",
   "execution_count": 11,
   "id": "f2c83c5b-5e9e-4264-b48f-5414955cf2c0",
   "metadata": {},
   "outputs": [
    {
     "data": {
      "text/html": [
       "<div>\n",
       "<style scoped>\n",
       "    .dataframe tbody tr th:only-of-type {\n",
       "        vertical-align: middle;\n",
       "    }\n",
       "\n",
       "    .dataframe tbody tr th {\n",
       "        vertical-align: top;\n",
       "    }\n",
       "\n",
       "    .dataframe thead th {\n",
       "        text-align: right;\n",
       "    }\n",
       "</style>\n",
       "<table border=\"1\" class=\"dataframe\">\n",
       "  <thead>\n",
       "    <tr style=\"text-align: right;\">\n",
       "      <th></th>\n",
       "      <th>like</th>\n",
       "      <th>love</th>\n",
       "      <th>would</th>\n",
       "      <th>i'm</th>\n",
       "      <th>get</th>\n",
       "      <th>good</th>\n",
       "      <th>one</th>\n",
       "      <th>think</th>\n",
       "      <th>people</th>\n",
       "      <th>really</th>\n",
       "      <th>...</th>\n",
       "      <th>janitors</th>\n",
       "      <th>icu.</th>\n",
       "      <th>minnesota?</th>\n",
       "      <th>reciprocal</th>\n",
       "      <th>rinds?</th>\n",
       "      <th>sullivan.</th>\n",
       "      <th>apparantly</th>\n",
       "      <th>boomhauer(?)(boom-how-er)</th>\n",
       "      <th>stealthy</th>\n",
       "      <th>least,</th>\n",
       "    </tr>\n",
       "  </thead>\n",
       "  <tbody>\n",
       "    <tr>\n",
       "      <th>count</th>\n",
       "      <td>1784</td>\n",
       "      <td>1258</td>\n",
       "      <td>1008</td>\n",
       "      <td>1007</td>\n",
       "      <td>961</td>\n",
       "      <td>961</td>\n",
       "      <td>907</td>\n",
       "      <td>812</td>\n",
       "      <td>779</td>\n",
       "      <td>770</td>\n",
       "      <td>...</td>\n",
       "      <td>1</td>\n",
       "      <td>1</td>\n",
       "      <td>1</td>\n",
       "      <td>1</td>\n",
       "      <td>1</td>\n",
       "      <td>1</td>\n",
       "      <td>1</td>\n",
       "      <td>1</td>\n",
       "      <td>1</td>\n",
       "      <td>1</td>\n",
       "    </tr>\n",
       "  </tbody>\n",
       "</table>\n",
       "<p>1 rows × 36371 columns</p>\n",
       "</div>"
      ],
      "text/plain": [
       "       like  love  would   i'm  get  good  one  think  people  really  ...  \\\n",
       "count  1784  1258   1008  1007  961   961  907    812     779     770  ...   \n",
       "\n",
       "       janitors  icu.  minnesota?  reciprocal  rinds?  sullivan.  apparantly  \\\n",
       "count         1     1           1           1       1          1           1   \n",
       "\n",
       "       boomhauer(?)(boom-how-er)  stealthy  least,  \n",
       "count                          1         1       1  \n",
       "\n",
       "[1 rows x 36371 columns]"
      ]
     },
     "execution_count": 11,
     "metadata": {},
     "output_type": "execute_result"
    }
   ],
   "source": [
    "neg_unigram.T"
   ]
  },
  {
   "cell_type": "markdown",
   "id": "b1e5a8bd-e497-444a-bda5-00af7f98652d",
   "metadata": {},
   "source": [
    "Data is clean and does not need any cleaning. \n",
    "\n"
   ]
  },
  {
   "cell_type": "code",
   "execution_count": 15,
   "id": "88361145-ea98-4120-ba27-b7a265c6dcd5",
   "metadata": {},
   "outputs": [
    {
     "name": "stderr",
     "output_type": "stream",
     "text": [
      "Some weights of the model checkpoint at distilbert-base-uncased were not used when initializing DistilBertForSequenceClassification: ['vocab_transform.bias', 'vocab_projector.bias', 'vocab_layer_norm.weight', 'vocab_projector.weight', 'vocab_transform.weight', 'vocab_layer_norm.bias']\n",
      "- This IS expected if you are initializing DistilBertForSequenceClassification from the checkpoint of a model trained on another task or with another architecture (e.g. initializing a BertForSequenceClassification model from a BertForPreTraining model).\n",
      "- This IS NOT expected if you are initializing DistilBertForSequenceClassification from the checkpoint of a model that you expect to be exactly identical (initializing a BertForSequenceClassification model from a BertForSequenceClassification model).\n",
      "Some weights of DistilBertForSequenceClassification were not initialized from the model checkpoint at distilbert-base-uncased and are newly initialized: ['classifier.weight', 'classifier.bias', 'pre_classifier.weight', 'pre_classifier.bias']\n",
      "You should probably TRAIN this model on a down-stream task to be able to use it for predictions and inference.\n"
     ]
    }
   ],
   "source": [
    "import transformers\n",
    "from transformers import AutoTokenizer, AutoModelForSequenceClassification\n",
    "from transformers import TrainingArguments, Trainer\n",
    "\n",
    "model_name = \"distilbert-base-uncased\"\n",
    "tokenizer = AutoTokenizer.from_pretrained(model_name)\n",
    "model = AutoModelForSequenceClassification.from_pretrained(model_name, num_labels=2)"
   ]
  },
  {
   "cell_type": "code",
   "execution_count": 24,
   "id": "bc861e00",
   "metadata": {},
   "outputs": [],
   "source": [
    "tokenized_train = tokenizer(train_df[\"text\"].to_list(), max_length=512, truncation=True, padding=True)\n",
    "tokenized_val = tokenizer(val_df[\"text\"].to_list(), max_length=512, truncation=True, padding=True)\n",
    "tokenized_test = tokenizer(test_df[\"text\"].to_list(), max_length=512, truncation=True, padding=True)"
   ]
  },
  {
   "cell_type": "code",
   "execution_count": 25,
   "id": "7ab950f9-6b80-4559-9314-91e9d63ceef2",
   "metadata": {},
   "outputs": [
    {
     "data": {
      "text/plain": [
       "dict_keys(['input_ids', 'attention_mask'])"
      ]
     },
     "execution_count": 25,
     "metadata": {},
     "output_type": "execute_result"
    }
   ],
   "source": [
    "tokenized_train.keys()"
   ]
  },
  {
   "cell_type": "code",
   "execution_count": 26,
   "id": "4c38b003-650f-41b7-8242-c8442fbe2ec9",
   "metadata": {},
   "outputs": [],
   "source": [
    "import torch\n",
    "from torch.utils.data import Dataset\n",
    "\n",
    "class TextDataset(Dataset):\n",
    "    def __init__(self, tokenized_text, labels):\n",
    "        self.tokenized_text = tokenized_text\n",
    "        self.labels = labels\n",
    "    \n",
    "    def __getitem__(self, idx):\n",
    "        item = {k: torch.tensor(v[idx]) for k,v in self.tokenized_text.items()}\n",
    "        item[\"labels\"] = torch.tensor(self.labels[idx])\n",
    "        return item\n",
    "\n",
    "    def __len__(self):\n",
    "        return len(self.labels)\n",
    "    \n",
    "train_dataset = TextDataset(tokenized_train, train_df[\"label\"].to_list())\n",
    "val_dataset = TextDataset(tokenized_val, val_df[\"label\"].to_list())\n",
    "test_dataset = TextDataset(tokenized_test, test_df[\"label\"].to_list())"
   ]
  },
  {
   "cell_type": "code",
   "execution_count": 27,
   "id": "d92f8616-eff5-4b4e-875e-debc682434bf",
   "metadata": {},
   "outputs": [
    {
     "data": {
      "text/plain": [
       "{'input_ids': tensor([  101,  3138,  2053,  2051,  2000,  6100,  1013, 19351,  1037,  2811,\n",
       "          2713,   102,     0,     0,     0,     0,     0,     0,     0,     0,\n",
       "             0,     0,     0,     0,     0,     0,     0,     0,     0,     0,\n",
       "             0,     0,     0,     0,     0,     0,     0,     0,     0,     0,\n",
       "             0,     0,     0,     0,     0,     0,     0,     0,     0,     0,\n",
       "             0,     0,     0,     0,     0,     0,     0,     0,     0,     0,\n",
       "             0,     0,     0,     0,     0,     0,     0,     0,     0,     0,\n",
       "             0,     0,     0,     0,     0,     0,     0,     0,     0,     0,\n",
       "             0,     0,     0,     0,     0,     0,     0,     0,     0,     0,\n",
       "             0,     0,     0,     0,     0,     0,     0,     0,     0,     0,\n",
       "             0,     0,     0,     0,     0,     0,     0,     0,     0,     0,\n",
       "             0,     0,     0,     0,     0]),\n",
       " 'attention_mask': tensor([1, 1, 1, 1, 1, 1, 1, 1, 1, 1, 1, 1, 0, 0, 0, 0, 0, 0, 0, 0, 0, 0, 0, 0,\n",
       "         0, 0, 0, 0, 0, 0, 0, 0, 0, 0, 0, 0, 0, 0, 0, 0, 0, 0, 0, 0, 0, 0, 0, 0,\n",
       "         0, 0, 0, 0, 0, 0, 0, 0, 0, 0, 0, 0, 0, 0, 0, 0, 0, 0, 0, 0, 0, 0, 0, 0,\n",
       "         0, 0, 0, 0, 0, 0, 0, 0, 0, 0, 0, 0, 0, 0, 0, 0, 0, 0, 0, 0, 0, 0, 0, 0,\n",
       "         0, 0, 0, 0, 0, 0, 0, 0, 0, 0, 0, 0, 0, 0, 0, 0, 0, 0, 0]),\n",
       " 'labels': tensor(0)}"
      ]
     },
     "execution_count": 27,
     "metadata": {},
     "output_type": "execute_result"
    }
   ],
   "source": [
    "train_dataset[0]"
   ]
  },
  {
   "cell_type": "code",
   "execution_count": null,
   "id": "717be92d-3444-44fb-81df-5014130302e4",
   "metadata": {},
   "outputs": [
    {
     "data": {
      "text/html": [
       "\n",
       "    <div>\n",
       "      \n",
       "      <progress value='173' max='11721' style='width:300px; height:20px; vertical-align: middle;'></progress>\n",
       "      [  173/11721 00:27 < 31:02, 6.20 it/s, Epoch 0.04/3]\n",
       "    </div>\n",
       "    <table border=\"1\" class=\"dataframe\">\n",
       "  <thead>\n",
       "    <tr style=\"text-align: left;\">\n",
       "      <th>Step</th>\n",
       "      <th>Training Loss</th>\n",
       "    </tr>\n",
       "  </thead>\n",
       "  <tbody>\n",
       "  </tbody>\n",
       "</table><p>"
      ],
      "text/plain": [
       "<IPython.core.display.HTML object>"
      ]
     },
     "metadata": {},
     "output_type": "display_data"
    }
   ],
   "source": [
    "training_args = TrainingArguments(\n",
    "    output_dir=\"results\",\n",
    "    logging_dir=\"logs\"\n",
    ")\n",
    "\n",
    "trainer = Trainer(\n",
    "    model=model,\n",
    "    args=training_args,\n",
    "    train_dataset=train_dataset,\n",
    "    eval_dataset=val_dataset\n",
    ")\n",
    "\n",
    "trainer.train()"
   ]
  }
 ],
 "metadata": {
  "kernelspec": {
   "display_name": "Python [conda env:ai-blitz]",
   "language": "python",
   "name": "conda-env-ai-blitz-py"
  },
  "language_info": {
   "codemirror_mode": {
    "name": "ipython",
    "version": 3
   },
   "file_extension": ".py",
   "mimetype": "text/x-python",
   "name": "python",
   "nbconvert_exporter": "python",
   "pygments_lexer": "ipython3",
   "version": "3.8.10"
  }
 },
 "nbformat": 4,
 "nbformat_minor": 5
}
